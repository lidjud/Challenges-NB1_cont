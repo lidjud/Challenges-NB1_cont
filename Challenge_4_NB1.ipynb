{
  "nbformat": 4,
  "nbformat_minor": 0,
  "metadata": {
    "colab": {
      "name": "Challenge 4 NB1.ipynb",
      "provenance": [],
      "authorship_tag": "ABX9TyM529zdFlCWxqKxoBGnGBnw",
      "include_colab_link": true
    },
    "kernelspec": {
      "name": "python3",
      "display_name": "Python 3"
    },
    "language_info": {
      "name": "python"
    }
  },
  "cells": [
    {
      "cell_type": "markdown",
      "metadata": {
        "id": "view-in-github",
        "colab_type": "text"
      },
      "source": [
        "<a href=\"https://colab.research.google.com/github/lidjud/Challenges-NB1_cont/blob/main/Challenge_4_NB1.ipynb\" target=\"_parent\"><img src=\"https://colab.research.google.com/assets/colab-badge.svg\" alt=\"Open In Colab\"/></a>"
      ]
    },
    {
      "cell_type": "markdown",
      "source": [
        "# **Challenge 4: Variables**"
      ],
      "metadata": {
        "id": "VDSAHFj6oP7u"
      }
    },
    {
      "cell_type": "markdown",
      "source": [
        "Escribe un programa que intercambie los valores almacenados en las variables a y b.\n",
        "\n",
        "🔎 Necesitarás crear algunas variables."
      ],
      "metadata": {
        "id": "nr5XYSMsoVLI"
      }
    },
    {
      "cell_type": "code",
      "execution_count": null,
      "metadata": {
        "id": "wYuQ2P_KoNke"
      },
      "outputs": [],
      "source": [
        "# 🚨 No modifiques las siguientes líneas de código 👇\n",
        "a = input(\"a: \")\n",
        "b = input(\"b: \")\n",
        "\n",
        "####################################\n",
        "#Aquí puedes escribir tu código 👇\n",
        "\n",
        "\n",
        "\n",
        "\n",
        "\n",
        "# 🚨 No modifiques las siguientes líneas de código 👇\n",
        "print(\"a: \" + a)\n",
        "print(\"b: \" + b)"
      ]
    }
  ]
}